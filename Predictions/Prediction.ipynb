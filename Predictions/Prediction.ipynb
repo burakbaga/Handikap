{
 "cells": [
  {
   "cell_type": "code",
   "execution_count": 1,
   "metadata": {},
   "outputs": [
    {
     "name": "stdout",
     "output_type": "stream",
     "text": [
      "Connection Successful <sqlite3.Connection object at 0x000001EEA1A029D0>\n"
     ]
    }
   ],
   "source": [
    "import sqlite3\n",
    "import pandas as pd\n",
    "import numpy as np\n",
    "from matplotlib import pyplot as plt\n",
    "from sklearn.preprocessing import scale\n",
    "import warnings\n",
    "import pandas as pd \n",
    "import numpy as np\n",
    "import sys\n",
    "import matplotlib.pyplot as plt\n",
    "import re\n",
    "from sklearn.metrics import classification_report\n",
    "import string\n",
    "from nltk.corpus import stopwords\n",
    "from sklearn.pipeline import Pipeline\n",
    "from sklearn.model_selection import train_test_split\n",
    "from sklearn.naive_bayes import MultinomialNB,BernoulliNB\n",
    "from sklearn.ensemble import RandomForestClassifier\n",
    "from sklearn.metrics import accuracy_score\n",
    "from sklearn.metrics import confusion_matrix\n",
    "import seaborn as sns\n",
    "from sklearn.neighbors import KNeighborsClassifier\n",
    "from sklearn.tree import DecisionTreeClassifier\n",
    "from sklearn.svm import LinearSVC\n",
    "from sklearn.linear_model import SGDClassifier\n",
    "from sklearn.feature_extraction.text import TfidfVectorizer,CountVectorizer,TfidfTransformer\n",
    "from sklearn.cluster import KMeans\n",
    "from sklearn.preprocessing import StandardScaler\n",
    "from sklearn.preprocessing import MinMaxScaler\n",
    "from sklearn.model_selection import train_test_split\n",
    "from sklearn.naive_bayes import MultinomialNB\n",
    "from xgboost import XGBClassifier\n",
    "from sklearn.ensemble import RandomForestClassifier\n",
    "\n",
    "warnings.filterwarnings(\"ignore\")\n",
    "database = 'database.sqlite'\n",
    "\n",
    "conn = sqlite3.connect(database)\n",
    "tables = pd.read_sql(\"\"\"SELECT *\n",
    "                        FROM sqlite_master\n",
    "                        WHERE type='table';\"\"\", conn)\n",
    "print(\"Connection Successful\",conn)"
   ]
  },
  {
   "cell_type": "code",
   "execution_count": 2,
   "metadata": {},
   "outputs": [],
   "source": [
    "country = pd.read_sql_query(\"SELECT * FROM Country\", conn)\n",
    "league = pd.read_sql_query(\"SELECT * FROM League\", conn)\n",
    "match = pd.read_sql_query(\"SELECT * FROM Match\", conn)\n",
    "player = pd.read_sql_query(\"SELECT * FROM Player\", conn)\n",
    "player_attributes = pd.read_sql_query(\"SELECT * FROM Player_Attributes\", conn)\n",
    "team = pd.read_sql_query(\"SELECT * FROM Team\", conn)\n",
    "team_attributes = pd.read_sql_query(\"SELECT * FROM Team_Attributes\", conn)\n",
    "sqlite_sequence = pd.read_sql_query(\"SELECT * FROM sqlite_sequence\", conn)\n",
    "\n",
    "country.set_index(\"id\",inplace=True)\n",
    "league.set_index(\"id\",inplace=True)\n",
    "match.set_index(\"id\",inplace=True)\n",
    "player.set_index(\"id\",inplace=True)\n",
    "player_attributes.set_index(\"id\",inplace=True)\n",
    "team.set_index(\"id\",inplace=True)\n",
    "team_attributes.set_index(\"id\",inplace=True)\n",
    "# sqlite_sequence.set_index(\"id\",inplace=True)\n"
   ]
  },
  {
   "cell_type": "code",
   "execution_count": 3,
   "metadata": {},
   "outputs": [],
   "source": [
    "match.drop(['goal', 'shoton',\n",
    "       'shotoff', 'foulcommit', 'card', 'cross', 'corner', 'possession',\n",
    "        'BWH', 'BWD', 'BWA', 'IWH', 'IWD', 'IWA',\n",
    "       'LBH', 'LBD', 'LBA', 'PSH', 'PSD', 'PSA', 'WHH', 'WHD', 'WHA', 'SJH',\n",
    "       'SJD', 'SJA', 'VCH', 'VCD', 'VCA', 'GBH', 'GBD', 'GBA', 'BSH', 'BSD',\n",
    "       'BSA', 'home_player_X1', 'home_player_X2', 'home_player_X3',\n",
    "       'home_player_X4', 'home_player_X5', 'home_player_X6', 'home_player_X7',\n",
    "       'home_player_X8', 'home_player_X9', 'home_player_X10',\n",
    "       'home_player_X11', 'away_player_X1', 'away_player_X2', 'away_player_X3',\n",
    "       'away_player_X4', 'away_player_X5', 'away_player_X6', 'away_player_X7',\n",
    "       'away_player_X8', 'away_player_X9', 'away_player_X10',\n",
    "       'away_player_X11', 'home_player_Y1', 'home_player_Y2', 'home_player_Y3',\n",
    "       'home_player_Y4', 'home_player_Y5', 'home_player_Y6', 'home_player_Y7',\n",
    "       'home_player_Y8', 'home_player_Y9', 'home_player_Y10',\n",
    "       'home_player_Y11', 'away_player_Y1', 'away_player_Y2', 'away_player_Y3',\n",
    "       'away_player_Y4', 'away_player_Y5', 'away_player_Y6', 'away_player_Y7',\n",
    "       'away_player_Y8', 'away_player_Y9', 'away_player_Y10',\n",
    "       'away_player_Y11',],axis=1,inplace=True) "
   ]
  },
  {
   "cell_type": "code",
   "execution_count": 4,
   "metadata": {},
   "outputs": [
    {
     "data": {
      "text/html": [
       "<div>\n",
       "<style scoped>\n",
       "    .dataframe tbody tr th:only-of-type {\n",
       "        vertical-align: middle;\n",
       "    }\n",
       "\n",
       "    .dataframe tbody tr th {\n",
       "        vertical-align: top;\n",
       "    }\n",
       "\n",
       "    .dataframe thead th {\n",
       "        text-align: right;\n",
       "    }\n",
       "</style>\n",
       "<table border=\"1\" class=\"dataframe\">\n",
       "  <thead>\n",
       "    <tr style=\"text-align: right;\">\n",
       "      <th></th>\n",
       "      <th>country_id</th>\n",
       "      <th>league_id</th>\n",
       "      <th>season</th>\n",
       "      <th>stage</th>\n",
       "      <th>date</th>\n",
       "      <th>match_api_id</th>\n",
       "      <th>home_team_api_id</th>\n",
       "      <th>away_team_api_id</th>\n",
       "      <th>home_team_goal</th>\n",
       "      <th>away_team_goal</th>\n",
       "      <th>...</th>\n",
       "      <th>away_player_5</th>\n",
       "      <th>away_player_6</th>\n",
       "      <th>away_player_7</th>\n",
       "      <th>away_player_8</th>\n",
       "      <th>away_player_9</th>\n",
       "      <th>away_player_10</th>\n",
       "      <th>away_player_11</th>\n",
       "      <th>B365H</th>\n",
       "      <th>B365D</th>\n",
       "      <th>B365A</th>\n",
       "    </tr>\n",
       "    <tr>\n",
       "      <th>id</th>\n",
       "      <th></th>\n",
       "      <th></th>\n",
       "      <th></th>\n",
       "      <th></th>\n",
       "      <th></th>\n",
       "      <th></th>\n",
       "      <th></th>\n",
       "      <th></th>\n",
       "      <th></th>\n",
       "      <th></th>\n",
       "      <th></th>\n",
       "      <th></th>\n",
       "      <th></th>\n",
       "      <th></th>\n",
       "      <th></th>\n",
       "      <th></th>\n",
       "      <th></th>\n",
       "      <th></th>\n",
       "      <th></th>\n",
       "      <th></th>\n",
       "      <th></th>\n",
       "    </tr>\n",
       "  </thead>\n",
       "  <tbody>\n",
       "    <tr>\n",
       "      <th>24559</th>\n",
       "      <td>24558</td>\n",
       "      <td>24558</td>\n",
       "      <td>2008/2009</td>\n",
       "      <td>1</td>\n",
       "      <td>2008-07-18 00:00:00</td>\n",
       "      <td>486263</td>\n",
       "      <td>10192</td>\n",
       "      <td>9931</td>\n",
       "      <td>1</td>\n",
       "      <td>2</td>\n",
       "      <td>...</td>\n",
       "      <td>NaN</td>\n",
       "      <td>NaN</td>\n",
       "      <td>NaN</td>\n",
       "      <td>NaN</td>\n",
       "      <td>NaN</td>\n",
       "      <td>NaN</td>\n",
       "      <td>NaN</td>\n",
       "      <td>NaN</td>\n",
       "      <td>NaN</td>\n",
       "      <td>NaN</td>\n",
       "    </tr>\n",
       "  </tbody>\n",
       "</table>\n",
       "<p>1 rows × 35 columns</p>\n",
       "</div>"
      ],
      "text/plain": [
       "       country_id  league_id     season  stage                 date  \\\n",
       "id                                                                    \n",
       "24559       24558      24558  2008/2009      1  2008-07-18 00:00:00   \n",
       "\n",
       "       match_api_id  home_team_api_id  away_team_api_id  home_team_goal  \\\n",
       "id                                                                        \n",
       "24559        486263             10192              9931               1   \n",
       "\n",
       "       away_team_goal  ...  away_player_5  away_player_6  away_player_7  \\\n",
       "id                     ...                                                \n",
       "24559               2  ...            NaN            NaN            NaN   \n",
       "\n",
       "       away_player_8  away_player_9  away_player_10  away_player_11  B365H  \\\n",
       "id                                                                           \n",
       "24559            NaN            NaN             NaN             NaN    NaN   \n",
       "\n",
       "       B365D  B365A  \n",
       "id                   \n",
       "24559    NaN    NaN  \n",
       "\n",
       "[1 rows x 35 columns]"
      ]
     },
     "execution_count": 4,
     "metadata": {},
     "output_type": "execute_result"
    }
   ],
   "source": [
    "match.sort_values(by=\"date\",inplace=True)\n",
    "match.head(1)"
   ]
  },
  {
   "cell_type": "code",
   "execution_count": 5,
   "metadata": {},
   "outputs": [],
   "source": [
    "def who_win(h_goal,a_goal):\n",
    "    if h_goal>a_goal:\n",
    "        return 1 # home team win\n",
    "\n",
    "    elif h_goal < a_goal:\n",
    "        return 2 # away team win\n",
    "    \n",
    "    else :\n",
    "        return 0 #draw\n"
   ]
  },
  {
   "cell_type": "code",
   "execution_count": 6,
   "metadata": {},
   "outputs": [],
   "source": [
    "match[\"label\"] = match.apply(lambda x:who_win(x.home_team_goal,x.away_team_goal),axis=1)"
   ]
  },
  {
   "cell_type": "code",
   "execution_count": 7,
   "metadata": {},
   "outputs": [],
   "source": [
    "all_matches=match[[\"home_team_api_id\",\"away_team_api_id\",\"date\"]].values"
   ]
  },
  {
   "cell_type": "code",
   "execution_count": null,
   "metadata": {},
   "outputs": [],
   "source": [
    "match[\"home_win_rate\"] = 0\n",
    "sayac = 0\n",
    "\n",
    "dizi =np.array([])\n",
    "\n",
    "for i in all_matches:\n",
    "    x=match[(match[\"home_team_api_id\"]==i[0]) & (match[\"away_team_api_id\"]==i[1]) & (match[\"date\"]<i[2])].label.value_counts()\n",
    "    if (1 in x):\n",
    "        dizi = np.append(dizi,x[1]/x.sum())\n",
    "    elif x.empty: \n",
    "        dizi = np.append(dizi,\"nan\")\n",
    "    elif (1 not in x) :\n",
    "        dizi = np.append(dizi,0) \n",
    "    "
   ]
  },
  {
   "cell_type": "code",
   "execution_count": null,
   "metadata": {},
   "outputs": [],
   "source": [
    "match[\"home_win_rate\"] = dizi"
   ]
  },
  {
   "cell_type": "code",
   "execution_count": null,
   "metadata": {},
   "outputs": [],
   "source": [
    "match.dropna(inplace=True)"
   ]
  },
  {
   "cell_type": "code",
   "execution_count": null,
   "metadata": {},
   "outputs": [],
   "source": [
    "match[\"home_team_name\"] = \"nan\"\n",
    "for team_id in team.team_api_id.values:\n",
    "    match[\"home_team_name\"][match[\"home_team_api_id\"]==team_id] = team[team[\"team_api_id\"]==team_id][\"team_long_name\"].values[0]\n",
    "match[\"away_team_name\"] = \"nan\"\n",
    "for team_id in team.team_api_id.values:\n",
    "    match[\"away_team_name\"][match[\"away_team_api_id\"]==team_id] = team[team[\"team_api_id\"]==team_id][\"team_long_name\"].values[0]"
   ]
  },
  {
   "cell_type": "code",
   "execution_count": null,
   "metadata": {},
   "outputs": [],
   "source": [
    "player_overal = player_attributes[[\"player_fifa_api_id\",\"player_api_id\",\"date\",\"overall_rating\"]]\n",
    "player_overal.dropna(inplace=True)"
   ]
  },
  {
   "cell_type": "code",
   "execution_count": null,
   "metadata": {},
   "outputs": [],
   "source": [
    "player_overal[player_overal[\"date\"]<\"2009\"].head()"
   ]
  },
  {
   "cell_type": "code",
   "execution_count": null,
   "metadata": {},
   "outputs": [],
   "source": [
    "def date_to_year(date):\n",
    "    return date[:4]"
   ]
  },
  {
   "cell_type": "code",
   "execution_count": null,
   "metadata": {},
   "outputs": [],
   "source": [
    "player_overal[\"year\"] = player_overal.date.apply(date_to_year)"
   ]
  },
  {
   "cell_type": "code",
   "execution_count": null,
   "metadata": {},
   "outputs": [],
   "source": [
    "player_overal.drop_duplicates(subset = [\"year\",\"player_api_id\"],keep=\"first\",inplace = True)"
   ]
  },
  {
   "cell_type": "code",
   "execution_count": null,
   "metadata": {},
   "outputs": [],
   "source": [
    "player_pos = ['home_player_1', 'home_player_2', 'home_player_3', 'home_player_4',\n",
    "       'home_player_5', 'home_player_6', 'home_player_7', 'home_player_8',\n",
    "       'home_player_9', 'home_player_10', 'home_player_11', 'away_player_1',\n",
    "       'away_player_2', 'away_player_3', 'away_player_4', 'away_player_5',\n",
    "       'away_player_6', 'away_player_7', 'away_player_8', 'away_player_9',\n",
    "       'away_player_10', 'away_player_11']"
   ]
  },
  {
   "cell_type": "code",
   "execution_count": null,
   "metadata": {},
   "outputs": [],
   "source": [
    "overals_2008 = dict()\n",
    "overals_2009 = dict()\n",
    "overals_2010 = dict()\n",
    "overals_2011 = dict()\n",
    "overals_2012 = dict()\n",
    "overals_2013 = dict()\n",
    "overals_2014 = dict()\n",
    "overals_2015 = dict()\n",
    "overals_2016 = dict()\n",
    "overal_year_dict = dict()\n",
    "for year in [\"2008\",\"2009\",\"2010\",\"2011\",\"2012\",\"2013\",\"2014\",\"2015\",\"2016\"]:\n",
    "    print(year)\n",
    "    for i in player_overal[player_overal[\"year\"]==year][\"player_api_id\"].values:\n",
    "        try :\n",
    "            k=player_overal[(player_overal[\"player_api_id\"]==i)&(player_overal[\"year\"]==year)][\"overall_rating\"].values[0]\n",
    "            if year==\"2008\":\n",
    "                overals_2008.update({i:k})\n",
    "            elif year==\"2009\":\n",
    "                overals_2009.update({i:k})\n",
    "            elif year==\"2010\":\n",
    "                overals_2010.update({i:k})\n",
    "            elif year==\"2011\":\n",
    "                overals_2011.update({i:k})\n",
    "            elif year==\"2012\":\n",
    "                overals_2012.update({i:k})\n",
    "            elif year==\"2013\":\n",
    "                overals_2013.update({i:k})\n",
    "            elif year==\"2014\":\n",
    "                overals_2014.update({i:k})\n",
    "            elif year==\"2015\":\n",
    "                overals_2015.update({i:k})\n",
    "            elif year==\"2016\":\n",
    "                overals_2016.update({i:k})\n",
    "        except Exception:\n",
    "            pass\n",
    "    \n",
    "    \n",
    "    \n",
    "    "
   ]
  },
  {
   "cell_type": "code",
   "execution_count": null,
   "metadata": {},
   "outputs": [],
   "source": [
    "import pickle\n",
    "\n",
    "file = open(\"overals_2008.pickle\",\"wb\")\n",
    "pickle.dump(overals_2008, file)\n",
    "file.close()\n",
    "\n",
    "file1 = open(\"overals_2009.pickle\",\"wb\")\n",
    "pickle.dump(overals_2009, file1)\n",
    "file1.close()\n",
    "\n",
    "file2 = open(\"overals_2010.pickle\",\"wb\")\n",
    "pickle.dump(overals_2010, file2)\n",
    "file2.close()\n",
    "\n",
    "file3 = open(\"overals_2011.pickle\",\"wb\")\n",
    "pickle.dump(overals_2011, file3)\n",
    "file3.close()\n",
    "\n",
    "file4 = open(\"overals_2012.pickle\",\"wb\")\n",
    "pickle.dump(overals_2012, file4)\n",
    "file4.close()\n",
    "\n",
    "file5 = open(\"overals_2013.pickle\",\"wb\")\n",
    "pickle.dump(overals_2013, file5)\n",
    "file5.close()\n",
    "\n",
    "file6 = open(\"overals_2014.pickle\",\"wb\")\n",
    "pickle.dump(overals_2014, file6)\n",
    "file6.close()\n",
    "\n",
    "file7 = open(\"overals_2015.pickle\",\"wb\")\n",
    "pickle.dump(overals_2015, file7)\n",
    "file7.close()\n",
    "\n",
    "\n",
    "file8 = open(\"overals_2016.pickle\",\"wb\")\n",
    "pickle.dump(overals_2016, file8)\n",
    "file8.close()\n"
   ]
  },
  {
   "cell_type": "code",
   "execution_count": null,
   "metadata": {},
   "outputs": [],
   "source": [
    "match[\"year\"] = match.date.apply(date_to_year)\n",
    "mean = int(np.floor(np.floor(player_overal[\"overall_rating\"].mean())))"
   ]
  },
  {
   "cell_type": "code",
   "execution_count": null,
   "metadata": {},
   "outputs": [],
   "source": [
    "for year in [\"2008\",\"2009\",\"2010\",\"2011\",\"2012\",\"2013\",\"2014\",\"2015\",\"2016\"]:\n",
    "    i=0\n",
    "    for pos in player_pos:\n",
    "        try :\n",
    "            if year == \"2008\":\n",
    "                match.loc[match[\"year\"]==\"2008\",pos] = match[pos][match[\"year\"]==\"2008\"].apply(lambda x:overals_2008[x] \n",
    "                                                                                               if x in overals_2008.keys() else mean)\n",
    "            \n",
    "            elif year == \"2009\":\n",
    "                match.loc[match[\"year\"]==\"2009\",pos] = match[pos][match[\"year\"]==\"2009\"].apply(lambda x:overals_2009[x] \n",
    "                                                                                               if x in overals_2009.keys() else mean)\n",
    "            \n",
    "            elif year == \"2010\":\n",
    "                match.loc[match[\"year\"]==\"2010\",pos] = match[pos][match[\"year\"]==\"2010\"].apply(lambda x:overals_2010[x] \n",
    "                                                                                               if x in overals_2010.keys() else mean)\n",
    "             \n",
    "            elif year == \"2011\":\n",
    "                match.loc[match[\"year\"]==\"2011\",pos] = match[pos][match[\"year\"]==\"2011\"].apply(lambda x:overals_2011[x] \n",
    "                                                                                               if x in overals_2011.keys() else mean)\n",
    "             \n",
    "            elif year == \"2012\":\n",
    "                match.loc[match[\"year\"]==\"2012\",pos] = match[pos][match[\"year\"]==\"2012\"].apply(lambda x:overals_2012[x] \n",
    "                                                                                               if x in overals_2012.keys() else mean)\n",
    "             \n",
    "            elif year == \"2013\":\n",
    "                match.loc[match[\"year\"]==\"2013\",pos] = match[pos][match[\"year\"]==\"2013\"].apply(lambda x:overals_2013[x] \n",
    "                                                                                               if x in overals_2013.keys() else mean)\n",
    "             \n",
    "            elif year == \"2014\":\n",
    "                match.loc[match[\"year\"]==\"2014\",pos] = match[pos][match[\"year\"]==\"2014\"].apply(lambda x:overals_2014[x] \n",
    "                                                                                               if x in overals_2014.keys() else mean)\n",
    "             \n",
    "            elif year == \"2015\":\n",
    "                match.loc[match[\"year\"]==\"2015\",pos] = match[pos][match[\"year\"]==\"2015\"].apply(lambda x:overals_2015[x] \n",
    "                                                                                               if x in overals_2015.keys() else mean)\n",
    "            \n",
    "            elif year == \"2016\":\n",
    "                match.loc[match[\"year\"]==\"2016\",pos] = match[pos][match[\"year\"]==\"2016\"].apply(lambda x:overals_2016[x] \n",
    "                                                                                               if x in overals_2016.keys() else mean)\n",
    "                \n",
    "        except Exception:\n",
    "            pass"
   ]
  },
  {
   "cell_type": "code",
   "execution_count": null,
   "metadata": {},
   "outputs": [],
   "source": [
    "# match.to_csv(\"match4.csv\",index=False)"
   ]
  },
  {
   "cell_type": "code",
   "execution_count": null,
   "metadata": {},
   "outputs": [],
   "source": [
    "def bahis(h,d,a):\n",
    "    if (h < d) & (h < a):\n",
    "        return int(1)\n",
    "    elif (a < h) &( a < d):\n",
    "        return int(2)\n",
    "    elif (d < h) & (d < a) :\n",
    "        return int(0)"
   ]
  },
  {
   "cell_type": "code",
   "execution_count": null,
   "metadata": {},
   "outputs": [],
   "source": [
    "match[\"bahis\"] = match.apply(lambda x:bahis(x.B365H,x.B365D,x.B365A),axis=1)"
   ]
  },
  {
   "cell_type": "code",
   "execution_count": null,
   "metadata": {},
   "outputs": [],
   "source": [
    "# match.to_csv(\"label.csv\",index=False)\n"
   ]
  },
  {
   "cell_type": "code",
   "execution_count": null,
   "metadata": {},
   "outputs": [],
   "source": []
  },
  {
   "cell_type": "code",
   "execution_count": null,
   "metadata": {},
   "outputs": [],
   "source": [
    "# match[\"label\"] = match.apply(lambda x:who_win(x.home_team_goal,x.away_team_goal),axis=1)\n",
    "# match.to_csv(\"mat.csv\",index=False)\n",
    "match.tail()"
   ]
  },
  {
   "cell_type": "code",
   "execution_count": null,
   "metadata": {},
   "outputs": [],
   "source": [
    "match.dropna(inplace=True)"
   ]
  },
  {
   "cell_type": "code",
   "execution_count": null,
   "metadata": {},
   "outputs": [],
   "source": [
    "x = match.drop([\"country_id\",\"league_id\",\"season\",\"date\",\"match_api_id\",\"home_team_api_id\",\"away_team_api_id\",\n",
    "              \"home_team_goal\",\"away_team_goal\",\"stage\",\"label\",\"year\",\"home_team_name\",\"away_team_name\"],axis=1).values\n",
    "\n",
    "y = match[\"label\"].values"
   ]
  },
  {
   "cell_type": "code",
   "execution_count": null,
   "metadata": {},
   "outputs": [],
   "source": [
    "scaler = MinMaxScaler()\n",
    "x_scaled=scaler.fit_transform(x)\n",
    "\n",
    "x_train,x_test,y_train,y_test = train_test_split(x_scaled,y,test_size=.2,random_state= 41)\n",
    "mnb =XGBClassifier()\n",
    "mnb.fit(x_train,y_train)\n",
    "mnb.score(x_test,y_test)"
   ]
  },
  {
   "cell_type": "code",
   "execution_count": null,
   "metadata": {},
   "outputs": [],
   "source": [
    "mnb = MultinomialNB(alpha=0.01) # Çok sınıflı problemlerde kullanılır.\n",
    "knn = KNeighborsClassifier(3)\n",
    "svc = LinearSVC(random_state=44)\n",
    "rfc = RandomForestClassifier(n_estimators=10,criterion='entropy',)#\n",
    "tree = DecisionTreeClassifier()\n",
    "sgd = SGDClassifier(alpha=0.01,random_state=44)\n",
    "kmeans = KMeans(n_clusters=3, random_state=0)"
   ]
  },
  {
   "cell_type": "code",
   "execution_count": null,
   "metadata": {},
   "outputs": [],
   "source": [
    "models=[mnb,svc,rfc,tree,sgd,knn]\n",
    "best_acc=0\n",
    "selected=models[0]\n",
    "for count,model in enumerate(models):\n",
    "\n",
    "    model=model.fit(x_train,y_train)\n",
    "    accuracy=accuracy_score(y_test,model.predict(x_test))\n",
    "    print(f\"Model : {models[count]} \\n Accuracy : {accuracy} \\n\")\n",
    "    if accuracy>best_acc:\n",
    "        best_acc=accuracy\n",
    "        selected=model\n",
    "#     except Exception:\n",
    "#         continue\n",
    "print(\"Best Accuracy :\" + str(best_acc))\n",
    "print(\"Selected Model : \" + str(selected))"
   ]
  },
  {
   "cell_type": "code",
   "execution_count": null,
   "metadata": {},
   "outputs": [],
   "source": [
    "# for i in player_pos[:-2]:\n",
    "#     for player_id in player_unique:\n",
    "#         df[i][df[i]==player_id]=player_attributes[player_attributes[\"player_api_id\"]==player_id].iloc[0][\"overall_rating\"]"
   ]
  },
  {
   "cell_type": "code",
   "execution_count": null,
   "metadata": {},
   "outputs": [],
   "source": [
    "# match.to_csv(\"denemeson.csv\",index=False)"
   ]
  },
  {
   "cell_type": "code",
   "execution_count": null,
   "metadata": {},
   "outputs": [],
   "source": []
  },
  {
   "cell_type": "code",
   "execution_count": null,
   "metadata": {},
   "outputs": [],
   "source": []
  },
  {
   "cell_type": "code",
   "execution_count": null,
   "metadata": {},
   "outputs": [],
   "source": []
  },
  {
   "cell_type": "code",
   "execution_count": null,
   "metadata": {},
   "outputs": [],
   "source": []
  },
  {
   "cell_type": "code",
   "execution_count": null,
   "metadata": {},
   "outputs": [],
   "source": []
  },
  {
   "cell_type": "code",
   "execution_count": null,
   "metadata": {},
   "outputs": [],
   "source": []
  },
  {
   "cell_type": "code",
   "execution_count": null,
   "metadata": {},
   "outputs": [],
   "source": []
  },
  {
   "cell_type": "code",
   "execution_count": null,
   "metadata": {},
   "outputs": [],
   "source": []
  },
  {
   "cell_type": "code",
   "execution_count": null,
   "metadata": {},
   "outputs": [],
   "source": []
  },
  {
   "cell_type": "code",
   "execution_count": null,
   "metadata": {},
   "outputs": [],
   "source": []
  },
  {
   "cell_type": "code",
   "execution_count": null,
   "metadata": {},
   "outputs": [],
   "source": []
  }
 ],
 "metadata": {
  "kernelspec": {
   "display_name": "Python 3",
   "language": "python",
   "name": "python3"
  },
  "language_info": {
   "codemirror_mode": {
    "name": "ipython",
    "version": 3
   },
   "file_extension": ".py",
   "mimetype": "text/x-python",
   "name": "python",
   "nbconvert_exporter": "python",
   "pygments_lexer": "ipython3",
   "version": "3.7.3"
  }
 },
 "nbformat": 4,
 "nbformat_minor": 2
}
